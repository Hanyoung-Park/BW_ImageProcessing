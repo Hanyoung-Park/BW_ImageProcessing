{
 "cells": [
  {
   "cell_type": "code",
   "execution_count": null,
   "metadata": {},
   "outputs": [],
   "source": [
    "import numpy as np\n",
    "from PIL import Image"
   ]
  },
  {
   "cell_type": "code",
   "execution_count": null,
   "metadata": {},
   "outputs": [],
   "source": [
    "img_name = input(\"파일 이름을 입력하세요: \")"
   ]
  },
  {
   "cell_type": "code",
   "execution_count": null,
   "metadata": {},
   "outputs": [],
   "source": [
    "img = Image.open(img_name)\n",
    "col, row = im.size"
   ]
  },
  {
   "cell_type": "code",
   "execution_count": null,
   "metadata": {},
   "outputs": [],
   "source": [
    "color_img_3d = np.array(im)\n",
    "greyscale_img_2d = np.full((row, col), 0)"
   ]
  },
  {
   "cell_type": "code",
   "execution_count": null,
   "metadata": {},
   "outputs": [],
   "source": [
    "def color3d_to_grey2d(cimg, gimg):\n",
    "    row, col = gimg.shape\n",
    "    for i in range(row):\n",
    "        for j in range(col):\n",
    "            gimg[i][j] = int(0.299*cimg[i][j][0]+0.587*cimg[i][j][1]+0.114*cimg[i][j][2])\n",
    "            "
   ]
  },
  {
   "cell_type": "code",
   "execution_count": null,
   "metadata": {},
   "outputs": [],
   "source": [
    "def grey2d_to_3dimg(cimg, gimg):\n",
    "    row, col = gimg.shape\n",
    "    for i in range(row):\n",
    "        for j in range(col):\n",
    "            for k in range(3):\n",
    "                cimg[i][j][k] = gimg[i][j]"
   ]
  },
  {
   "cell_type": "code",
   "execution_count": null,
   "metadata": {},
   "outputs": [],
   "source": [
    "def color3d_to_binary(cimg, gimg, threshold=127):\n",
    "    row, col = gimg.shape\n",
    "    for i in range(row):\n",
    "        for j in range(col):\n",
    "            temp = int(0.299*cimg[i][j][0]+0.587*cimg[i][j][1]+0.114*cimg[i][j][2])\n",
    "            if(temp>=threshold):\n",
    "                gimg[i][j] = 255\n",
    "            else:\n",
    "                gimg[i][j] = 0"
   ]
  }
 ],
 "metadata": {
  "kernelspec": {
   "display_name": "Python 3",
   "language": "python",
   "name": "python3"
  },
  "language_info": {
   "codemirror_mode": {
    "name": "ipython",
    "version": 3
   },
   "file_extension": ".py",
   "mimetype": "text/x-python",
   "name": "python",
   "nbconvert_exporter": "python",
   "pygments_lexer": "ipython3",
   "version": "3.8.5"
  }
 },
 "nbformat": 4,
 "nbformat_minor": 4
}
