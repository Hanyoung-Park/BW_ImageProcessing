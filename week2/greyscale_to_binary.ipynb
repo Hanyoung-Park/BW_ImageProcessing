{
 "cells": [
  {
   "cell_type": "code",
   "execution_count": 1,
   "metadata": {},
   "outputs": [],
   "source": [
    "import numpy as np\n",
    "from PIL import Image"
   ]
  },
  {
   "cell_type": "code",
   "execution_count": 2,
   "metadata": {},
   "outputs": [],
   "source": [
    "image_array = np.zeros((16,16))"
   ]
  },
  {
   "cell_type": "code",
   "execution_count": 3,
   "metadata": {},
   "outputs": [],
   "source": [
    "for i in range(16):\n",
    "    for j in range(16):\n",
    "        image_array[i][j] = 17*i"
   ]
  },
  {
   "cell_type": "code",
   "execution_count": 4,
   "metadata": {},
   "outputs": [],
   "source": [
    "image = Image.fromarray(image_array)"
   ]
  },
  {
   "cell_type": "code",
   "execution_count": 5,
   "metadata": {},
   "outputs": [],
   "source": [
    "import matplotlib.pyplot as plt"
   ]
  },
  {
   "cell_type": "code",
   "execution_count": 6,
   "metadata": {},
   "outputs": [
    {
     "data": {
      "image/png": "[encoded data removed]",
      "text/plain": [
       "<Figure size 432x288 with 1 Axes>"
      ]
     },
     "metadata": {
      "needs_background": "light"
     },
     "output_type": "display_data"
    }
   ],
   "source": [
    "plt.imshow(image)\n",
    "plt.show()"
   ]
  },
  {
   "cell_type": "code",
   "execution_count": 7,
   "metadata": {},
   "outputs": [
    {
     "data": {
      "image/png": "[encoded data removed]",
      "text/plain": [
       "<Figure size 720x720 with 2 Axes>"
      ]
     },
     "metadata": {
      "needs_background": "light"
     },
     "output_type": "display_data"
    }
   ],
   "source": [
    "# 문제 3: binarization을 이용해 원본 이미지가 다음 이미지와 같은 형태로 보이게 바꾸시오. \n",
    "# 제대로 된 binarization 알고리즘이 아닐 경우 정답 인정 X\n",
    "### your code here\n",
    "\n",
    "\n",
    "### your code here\n",
    "fig = plt.figure(figsize =(10,10))\n",
    "plt.subplot(1,2,1)\n",
    "image = Image.fromarray(image_array)\n",
    "plt.imshow(image)\n",
    "plt.xlabel(\"Your Image\")\n",
    "\n",
    "plt.subplot(1,2,2)\n",
    "answerimage = np.array(([[0]*16]*8+[[255]*16]*8)).astype(np.uint8)\n",
    "answerimage1 = Image.fromarray(answerimage)        \n",
    "plt.imshow(answerimage1, cmap = 'gray')\n",
    "plt.xlabel(\"Answer Image\")\n",
    "plt.show()"
   ]
  },
  {
   "cell_type": "code",
   "execution_count": null,
   "metadata": {},
   "outputs": [],
   "source": []
  }
 ],
 "metadata": {
  "kernelspec": {
   "display_name": "Python 3",
   "language": "python",
   "name": "python3"
  },
  "language_info": {
   "codemirror_mode": {
    "name": "ipython",
    "version": 3
   },
   "file_extension": ".py",
   "mimetype": "text/x-python",
   "name": "python",
   "nbconvert_exporter": "python",
   "pygments_lexer": "ipython3",
   "version": "3.8.5"
  }
 },
 "nbformat": 4,
 "nbformat_minor": 4
}
